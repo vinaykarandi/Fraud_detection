{
 "cells": [
  {
   "cell_type": "code",
   "execution_count": 5,
   "id": "8abede61",
   "metadata": {},
   "outputs": [
    {
     "name": "stdout",
     "output_type": "stream",
     "text": [
      "adding all the data processing  code related to fraud detection\n",
      "added a new function which is not crt\n"
     ]
    }
   ],
   "source": [
    "print(\"adding all the data processing  code related to fraud detection\")\n",
    "a=5\n",
    "b=7\n",
    "def sum(a,b):\n",
    "    c=a+b\n",
    "    return c\n",
    "def sub(a,b):\n",
    "    d=a-b\n",
    "    return d"
   ]
  }
 ],
 "metadata": {
  "kernelspec": {
   "display_name": "Python 3 (ipykernel)",
   "language": "python",
   "name": "python3"
  },
  "language_info": {
   "codemirror_mode": {
    "name": "ipython",
    "version": 3
   },
   "file_extension": ".py",
   "mimetype": "text/x-python",
   "name": "python",
   "nbconvert_exporter": "python",
   "pygments_lexer": "ipython3",
   "version": "3.9.13"
  }
 },
 "nbformat": 4,
 "nbformat_minor": 5
}
